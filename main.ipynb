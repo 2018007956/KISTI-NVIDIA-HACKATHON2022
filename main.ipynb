{
 "cells": [
  {
   "cell_type": "markdown",
   "id": "b244ded8",
   "metadata": {},
   "source": [
    "## Make shall file"
   ]
  },
  {
   "cell_type": "markdown",
   "id": "24bfdd2f",
   "metadata": {},
   "source": [
    "None"
   ]
  },
  {
   "cell_type": "code",
   "execution_count": 7,
   "id": "d5d2dbbc",
   "metadata": {},
   "outputs": [
    {
     "name": "stdout",
     "output_type": "stream",
     "text": [
      "Overwriting run_None.sh\n"
     ]
    }
   ],
   "source": [
    "%%file run_None.sh\n",
    "CUDA_VISIBLE_DEVICES=\"0\" python -Wd -m torch.distributed.launch --nproc_per_node 1 ch_main_ts-multi_gpu-dice_only.py --name unet -d ./data/dataset_public --batch-size 16 --epoch 2 --lr 0.001 --t t100"
   ]
  },
  {
   "cell_type": "markdown",
   "id": "2332701b",
   "metadata": {},
   "source": [
    "DDP"
   ]
  },
  {
   "cell_type": "code",
   "execution_count": 8,
   "id": "6ebb66fd",
   "metadata": {},
   "outputs": [
    {
     "name": "stdout",
     "output_type": "stream",
     "text": [
      "Overwriting run_no_amp_multiGPU.sh\n"
     ]
    }
   ],
   "source": [
    "%%file run_no_amp_multiGPU.sh\n",
    "CUDA_VISIBLE_DEVICES=\"0,1,2,3\" python -Wd -m torch.distributed.launch --nproc_per_node 4 ch_main_ts-multi_gpu-dice_only.py --name unet -d ./data/dataset_public --batch-size 16 --epoch 2 --lr 0.001 --t t100"
   ]
  },
  {
   "cell_type": "markdown",
   "id": "176cd76d",
   "metadata": {},
   "source": [
    "AMP"
   ]
  },
  {
   "cell_type": "code",
   "execution_count": 5,
   "id": "b4d84f28",
   "metadata": {},
   "outputs": [
    {
     "name": "stdout",
     "output_type": "stream",
     "text": [
      "Overwriting run_amp_singleGPU.sh\n"
     ]
    }
   ],
   "source": [
    "%%file run_amp_singleGPU.sh\n",
    "CUDA_VISIBLE_DEVICES=\"0\" python -Wd -m torch.distributed.launch --nproc_per_node 1 ch_main_ts-multi_gpu-dice_only.py --name unet -d ./data/dataset_public --batch-size 16 --epoch 600 --lr 0.001 --t t100 --fp16"
   ]
  },
  {
   "cell_type": "code",
   "execution_count": 8,
   "id": "b7152f73",
   "metadata": {},
   "outputs": [
    {
     "name": "stdout",
     "output_type": "stream",
     "text": [
      "Overwriting run_amp_singleGPU32.sh\n"
     ]
    }
   ],
   "source": [
    "%%file run_amp_singleGPU32.sh\n",
    "CUDA_VISIBLE_DEVICES=\"0\" python -Wd -m torch.distributed.launch --nproc_per_node 1 ch_main_ts-multi_gpu-dice_only.py --name unet -d ./data/dataset_public --batch-size 40 --epoch 600 --lr 0.001 --t t100 --fp16"
   ]
  },
  {
   "cell_type": "markdown",
   "id": "33a6aca3",
   "metadata": {},
   "source": [
    "AMP + DDP"
   ]
  },
  {
   "cell_type": "code",
   "execution_count": 2,
   "id": "53b28f5f",
   "metadata": {},
   "outputs": [
    {
     "name": "stdout",
     "output_type": "stream",
     "text": [
      "Overwriting run_amp_multiGPU.sh\n"
     ]
    }
   ],
   "source": [
    "%%file run_amp_multiGPU.sh\n",
    "CUDA_VISIBLE_DEVICES=\"0,1,2,3\" python -Wd -m torch.distributed.launch --nproc_per_node 4 ch_main_ts-multi_gpu-dice_only.py --name unet -d ./data/dataset_public --batch-size 16 --epoch 600 --lr 0.001 --t t100 --fp16"
   ]
  },
  {
   "cell_type": "code",
   "execution_count": 1,
   "id": "50d971af",
   "metadata": {},
   "outputs": [
    {
     "name": "stdout",
     "output_type": "stream",
     "text": [
      "Overwriting run_amp_multiGPU32.sh\n"
     ]
    }
   ],
   "source": [
    "%%file run_amp_multiGPU32.sh\n",
    "CUDA_VISIBLE_DEVICES=\"0,1,2,3\" python -Wd -m torch.distributed.launch --nproc_per_node 4 ch_main_ts-multi_gpu-dice_only.py --name unet -d ./data/dataset_public --batch-size 32 --epoch 600 --lr 0.001 --t t100 --fp16"
   ]
  },
  {
   "cell_type": "markdown",
   "id": "11513fd5",
   "metadata": {},
   "source": [
    "PSPNet"
   ]
  },
  {
   "cell_type": "code",
   "execution_count": 3,
   "id": "23a7074d",
   "metadata": {},
   "outputs": [
    {
     "name": "stdout",
     "output_type": "stream",
     "text": [
      "Overwriting run_psp_amp_multiGPU32.sh\n"
     ]
    }
   ],
   "source": [
    "%%file run_psp_amp_multiGPU32.sh\n",
    "CUDA_VISIBLE_DEVICES=\"2,3\" python -Wd -m torch.distributed.launch --nproc_per_node 2 ch_main_psp_net.py --name unet -d ./data/dataset_public --batch-size 16 --epoch 600 --lr 0.001 --t t100 --fp16"
   ]
  }
 ],
 "metadata": {
  "kernelspec": {
   "display_name": "Python 3 (ipykernel)",
   "language": "python",
   "name": "python3"
  },
  "language_info": {
   "codemirror_mode": {
    "name": "ipython",
    "version": 3
   },
   "file_extension": ".py",
   "mimetype": "text/x-python",
   "name": "python",
   "nbconvert_exporter": "python",
   "pygments_lexer": "ipython3",
   "version": "3.8.12"
  }
 },
 "nbformat": 4,
 "nbformat_minor": 5
}
