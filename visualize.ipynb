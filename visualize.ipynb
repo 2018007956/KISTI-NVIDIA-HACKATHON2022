{
 "cells": [
  {
   "cell_type": "markdown",
   "id": "6eabf326",
   "metadata": {},
   "source": [
    "## Load model"
   ]
  },
  {
   "cell_type": "code",
   "execution_count": null,
   "id": "91974725",
   "metadata": {},
   "outputs": [],
   "source": [
    "import torch\n",
    "device = torch.device('cpu')\n",
    "# layer segmentation\n",
    "import os\n",
    "import time\n",
    "# os.environ[\"CUDA_VISIBLE_DEVICES\"] = \"0\"\n",
    "import os.path as osp\n",
    "from os.path import exists\n",
    "import argparse\n",
    "import json\n",
    "import logging\n",
    "import time\n",
    "import copy\n",
    "##### pytorch library #####\n",
    "import torch\n",
    "from torch import nn\n",
    "import torch.backends.cudnn as cudnn\n",
    "from torch.autograd import Variable\n",
    "\n",
    "##### My own library #####\n",
    "import data.seg_transforms as dt\n",
    "from data.seg_dataset import segList\n",
    "from utils.logger import Logger\n",
    "from models.net_builder import net_builder\n",
    "from utils.loss import loss_builder1,loss_builder2,ch_loss_builder2,ch_loss_builder3\n",
    "from utils.utils import adjust_learning_rate\n",
    "from utils.utils import AverageMeter,save_model\n",
    "from utils.utils import compute_dice,compute_pa,compute_single_avg_score\n",
    "from utils.vis import vis_result\n",
    "import numpy as np\n",
    "# import segmentation_models_pytorch as smp"
   ]
  },
  {
   "cell_type": "code",
   "execution_count": null,
   "id": "f530a8ab",
   "metadata": {},
   "outputs": [],
   "source": [
    "pt_file = torch.load('./output/checkpoint_00600.pt')\n",
    "model = net_builder('unet')\n",
    "# model = smp.Unet(encoder_name=\"resnet50\",in_channels=1,classes=8)\n",
    "pt_file.keys()\n",
    "model.load_state_dict(pt_file['model_state'])\n",
    "model.to(device)\n",
    "info = json.load(open(osp.join('/scratch/kedu04/Segmentation/data/dataset_public', 'info.json'), 'r'))\n",
    "normalize = dt.Normalize(mean=info['mean'], std=info['std'])\n",
    "t = []\n",
    "t.extend([dt.Label_Transform(),dt.ToTensor(),normalize])\n",
    "train_dataset = segList('/scratch/kedu04/Segmentation/data/dataset_public', 'train', dt.Compose(t))"
   ]
  },
  {
   "cell_type": "code",
   "execution_count": null,
   "id": "96116231",
   "metadata": {},
   "outputs": [],
   "source": [
    "#train_dataset, _ = torch.utils.data.random_split(train_dataset, [30,783])"
   ]
  },
  {
   "cell_type": "code",
   "execution_count": null,
   "id": "034dc564",
   "metadata": {},
   "outputs": [],
   "source": [
    "train_loader = torch.utils.data.DataLoader(train_dataset,batch_size=1, shuffle=True, num_workers=2, pin_memory=True, drop_last=True)"
   ]
  },
  {
   "cell_type": "code",
   "execution_count": null,
   "id": "ae732d04",
   "metadata": {},
   "outputs": [],
   "source": [
    "criterion2 = ch_loss_builder3()\n",
    "criterion2 = criterion2.to(device)"
   ]
  },
  {
   "cell_type": "markdown",
   "id": "87d1c2e1",
   "metadata": {},
   "source": [
    "## Train Loss Graph"
   ]
  },
  {
   "cell_type": "code",
   "execution_count": null,
   "id": "dea5efc2",
   "metadata": {},
   "outputs": [],
   "source": [
    "train_loss = []\n",
    "epoch=600\n",
    "for i in range(1,epoch):\n",
    "    pt_file = torch.load(f'./output/checkpoint_{str(i).zfill(5)}.pt')\n",
    "    train_loss.append(pt_file['val_loss']['dice'])"
   ]
  },
  {
   "cell_type": "code",
   "execution_count": null,
   "id": "8a8a6c93",
   "metadata": {},
   "outputs": [],
   "source": [
    "import matplotlib.pyplot as plt\n",
    "plt.title(\"Train loss\")\n",
    "plt.plot(np.arange(1,epoch,1),train_loss)\n",
    "# plt.plot(valid_loss)\n",
    "plt.ylabel(\"Generalized Dice Coeffecient Loss\")\n",
    "plt.xlabel(\"epoch\")\n",
    "plt.show()"
   ]
  },
  {
   "cell_type": "markdown",
   "id": "83a10412",
   "metadata": {},
   "source": [
    "## Visualization"
   ]
  },
  {
   "cell_type": "code",
   "execution_count": null,
   "id": "21879051",
   "metadata": {},
   "outputs": [],
   "source": [
    "import matplotlib.pyplot as plt\n",
    "model.eval()\n",
    "count = 0\n",
    "for iter, (input, target) in enumerate(train_loader):\n",
    "    \n",
    "    with torch.no_grad():\n",
    "\n",
    "        tick_iter=time.time()\n",
    "        # variable\n",
    "        input_var = Variable(input).to(device)\n",
    "\n",
    "        target_var_seg = Variable(target).to(device)\n",
    "        # forward\n",
    "        output_seg = model(input_var)\n",
    "        loss_DICELOSS = criterion2(output_seg, target_var_seg)\n",
    "        loss = loss_DICELOSS     # loss from the two-stage network   \n",
    "        tock_iter = time.time()\n",
    "        duration_iter = tock_iter-tick_iter\n",
    "\n",
    "\n",
    "        str_iter=\"iter: {}/{} Dice:{} Total:{} duration:{}ms\".format(iter,len(train_loader),loss_DICELOSS.item(),loss.item(),duration_iter)\n",
    "        #print(str_iter)\n",
    "        input = input.squeeze(0)\n",
    "        target = target.squeeze(0)\n",
    "        output_seg = output_seg.squeeze(0)\n",
    "        #input = input.permute(1,2,0)\n",
    "\n",
    "        #output_seg = output_seg.permute(1,2,0)\n",
    "        output_seg = np.array(output_seg)\n",
    "        output_seg = np.argmax(output_seg, axis = 0)\n",
    "        input = np.array(input)\n",
    "        input = input[0]\n",
    "        target = np.array(target)\n",
    "        print(iter, \"target:\",np.unique(target,return_counts=True))\n",
    "        print(iter, \"output:\",np.unique(output_seg,return_counts=True))\n",
    "        fig, (ax1, ax2, ax3) = plt.subplots(1, 3,figsize=(10, 5))\n",
    "        ax1.set_title(\"input\")\n",
    "        ax1.imshow(input)\n",
    "        ax1.axis('off')\n",
    "\n",
    "        ax2.set_title(f\"predicted (Dice: {round(1.-loss_DICELOSS.item(),2)})\")\n",
    "        ax2.imshow(output_seg)\n",
    "        ax2.axis('off')\n",
    "\n",
    "        ax3.set_title(\"target\")\n",
    "        ax3.imshow(target)\n",
    "        ax3.axis('off')\n",
    "        plt.show()\n",
    "        real_seg = output_seg\n",
    "        real_input = input\n",
    "        real_target= target"
   ]
  }
 ],
 "metadata": {
  "kernelspec": {
   "display_name": "Python 3 (ipykernel)",
   "language": "python",
   "name": "python3"
  },
  "language_info": {
   "codemirror_mode": {
    "name": "ipython",
    "version": 3
   },
   "file_extension": ".py",
   "mimetype": "text/x-python",
   "name": "python",
   "nbconvert_exporter": "python",
   "pygments_lexer": "ipython3",
   "version": "3.8.12"
  }
 },
 "nbformat": 4,
 "nbformat_minor": 5
}
